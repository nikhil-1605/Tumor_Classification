{
 "cells": [
  {
   "cell_type": "code",
   "execution_count": 1,
   "metadata": {},
   "outputs": [],
   "source": [
    "import kaggle as kg\n",
    "import pandas as pd\n",
    "import numpy as np\n",
    "import seaborn as sns\n",
    "import matplotlib.pyplot as plt\n",
    "import scipy.stats as s\n",
    "import os"
   ]
  },
  {
   "cell_type": "code",
   "execution_count": 2,
   "metadata": {},
   "outputs": [],
   "source": [
    "os.environ[\"USERNAME\"] = \"aimlrl\"\n",
    "os.environ[\"KEY\"] = \"f9fcb3d12c2c4845724a50f0cdeab5ea\""
   ]
  },
  {
   "cell_type": "code",
   "execution_count": 4,
   "metadata": {},
   "outputs": [],
   "source": [
    "kg.api.authenticate()"
   ]
  },
  {
   "cell_type": "code",
   "execution_count": null,
   "metadata": {},
   "outputs": [],
   "source": [
    "kg.api.dataset_download_files(dataset=\"uciml/breast-cancer-wisconsin-data\",\n",
    "                              path=\"./dataset\",unzip=True)"
   ]
  },
  {
   "cell_type": "code",
   "execution_count": 2,
   "metadata": {},
   "outputs": [],
   "source": [
    "data = pd.read_csv(\"dataset/data.csv\")"
   ]
  },
  {
   "cell_type": "code",
   "execution_count": null,
   "metadata": {},
   "outputs": [],
   "source": [
    "data"
   ]
  },
  {
   "cell_type": "code",
   "execution_count": null,
   "metadata": {},
   "outputs": [],
   "source": [
    "data.isna().sum()"
   ]
  },
  {
   "cell_type": "code",
   "execution_count": null,
   "metadata": {},
   "outputs": [],
   "source": [
    "data.columns"
   ]
  },
  {
   "cell_type": "code",
   "execution_count": 6,
   "metadata": {},
   "outputs": [],
   "source": [
    "data.drop(labels=[data.columns[0],data.columns[-1]],axis=1,inplace=True)"
   ]
  },
  {
   "cell_type": "code",
   "execution_count": null,
   "metadata": {},
   "outputs": [],
   "source": [
    "data"
   ]
  },
  {
   "cell_type": "code",
   "execution_count": null,
   "metadata": {},
   "outputs": [],
   "source": [
    "data[data.columns[0]].replace(to_replace=['B','M'],value=[0,1],\n",
    "                              inplace=True)"
   ]
  },
  {
   "cell_type": "code",
   "execution_count": null,
   "metadata": {},
   "outputs": [],
   "source": [
    "data"
   ]
  },
  {
   "cell_type": "code",
   "execution_count": null,
   "metadata": {},
   "outputs": [],
   "source": [
    "data_corr = data.corr()\n",
    "upper_traingle_mask = np.triu(np.ones_like(data_corr,dtype=bool))\n",
    "sns.heatmap(data=data_corr,center=0,annot=True,square=True,xticklabels=True,yticklabels=True,mask=upper_traingle_mask)\n",
    "plt.show()"
   ]
  },
  {
   "cell_type": "code",
   "execution_count": 11,
   "metadata": {},
   "outputs": [],
   "source": [
    "selected_features = list(data_corr[(data_corr[data.columns[0]] < -0.5) | (data_corr[data.columns[0]] > 0.5)].index)"
   ]
  },
  {
   "cell_type": "code",
   "execution_count": null,
   "metadata": {},
   "outputs": [],
   "source": [
    "selected_features"
   ]
  },
  {
   "cell_type": "code",
   "execution_count": 13,
   "metadata": {},
   "outputs": [],
   "source": [
    "refined_data = data[selected_features]"
   ]
  },
  {
   "cell_type": "code",
   "execution_count": null,
   "metadata": {},
   "outputs": [],
   "source": [
    "refined_data"
   ]
  },
  {
   "cell_type": "code",
   "execution_count": 23,
   "metadata": {},
   "outputs": [],
   "source": [
    "X_transpose = np.array(refined_data.iloc[:,1:])\n",
    "X_transpose = (X_transpose - np.mean(X_transpose,axis=0))/np.std(X_transpose,axis=0)\n",
    "y = np.array(refined_data.iloc[:,0]).reshape(refined_data.shape[0],1)"
   ]
  },
  {
   "cell_type": "code",
   "execution_count": null,
   "metadata": {},
   "outputs": [],
   "source": [
    "pd.DataFrame(X_transpose)"
   ]
  },
  {
   "cell_type": "code",
   "execution_count": 24,
   "metadata": {},
   "outputs": [],
   "source": [
    "def sigmoid(theta0,theta):\n",
    "\n",
    "    return 1/(1 + np.exp(-(theta0 + np.matmul(X_transpose,theta))))"
   ]
  },
  {
   "cell_type": "code",
   "execution_count": 25,
   "metadata": {},
   "outputs": [],
   "source": [
    "def bce(theta0,theta):\n",
    "\n",
    "    p = sigmoid(theta0,theta)\n",
    "    first_term = np.matmul(np.transpose(y),np.log(p))\n",
    "    second_term = np.matmul(np.transpose(1-y),np.log(1-p))\n",
    "\n",
    "    return -(1/p.shape[0])*(first_term + second_term)"
   ]
  },
  {
   "cell_type": "code",
   "execution_count": 26,
   "metadata": {},
   "outputs": [],
   "source": [
    "def del_bce_by_del_theta(theta0,theta):\n",
    "\n",
    "    p = sigmoid(theta0,theta)\n",
    "    error_transpose = np.transpose(p - y)\n",
    "\n",
    "    del_by_del_theta0 = np.mean(error_transpose)\n",
    "    del_by_del_theta = (1/y.shape[0])*np.transpose(np.matmul(error_transpose,X_transpose))\n",
    "\n",
    "    return [del_by_del_theta0,del_by_del_theta]"
   ]
  },
  {
   "cell_type": "code",
   "execution_count": null,
   "metadata": {},
   "outputs": [],
   "source": [
    "epsilon = 10**(-4)\n",
    "epoch_counter = 0\n",
    "theta0_initial = 0\n",
    "theta_initial = np.zeros((X_transpose.shape[1],1))\n",
    "tol = 10**(-5)\n",
    "\n",
    "while True:\n",
    "\n",
    "    initial_gradients = del_bce_by_del_theta(theta0_initial,theta_initial)\n",
    "\n",
    "    theta0_final = theta0_initial - (epsilon * initial_gradients[0])\n",
    "    theta_final = theta_initial - (epsilon * initial_gradients[1])\n",
    "\n",
    "    bce_initial_value = bce(theta0_initial,theta_initial)\n",
    "    bce_final_value = bce(theta0_final,theta_final)\n",
    "\n",
    "    if abs(bce_initial_value - bce_final_value) < tol:\n",
    "        break\n",
    "\n",
    "    epoch_counter += 1\n",
    "\n",
    "    theta0_initial = theta0_final\n",
    "    theta_initial = theta_final\n",
    "\n",
    "    print(\"Epoch # {}, BCE Value = {}\".format(epoch_counter,bce_initial_value[0,0]))"
   ]
  },
  {
   "cell_type": "code",
   "execution_count": null,
   "metadata": {},
   "outputs": [],
   "source": []
  }
 ],
 "metadata": {
  "kernelspec": {
   "display_name": ".venv",
   "language": "python",
   "name": "python3"
  },
  "language_info": {
   "codemirror_mode": {
    "name": "ipython",
    "version": 3
   },
   "file_extension": ".py",
   "mimetype": "text/x-python",
   "name": "python",
   "nbconvert_exporter": "python",
   "pygments_lexer": "ipython3",
   "version": "3.10.12"
  }
 },
 "nbformat": 4,
 "nbformat_minor": 2
}
